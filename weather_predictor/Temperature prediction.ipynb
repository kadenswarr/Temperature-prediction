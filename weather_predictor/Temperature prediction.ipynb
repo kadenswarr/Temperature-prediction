{
 "cells": [
  {
   "cell_type": "code",
   "execution_count": 1,
   "metadata": {},
   "outputs": [],
   "source": [
    "import pandas as pd\n",
    "raw_data = pd.read_csv(\"C:/Users/Kaden/a_weather_project/weatherdata_grabber/weather_data.csv\")"
   ]
  },
  {
   "cell_type": "code",
   "execution_count": 2,
   "metadata": {},
   "outputs": [],
   "source": [
    "raw_data['Datetime'] = (raw_data['Date'] + ' ' + raw_data['Time'])\n",
    "raw_data['Datetime'] = pd.to_datetime(raw_data['Datetime'])"
   ]
  },
  {
   "cell_type": "code",
   "execution_count": 3,
   "metadata": {},
   "outputs": [],
   "source": [
    "weather_data = raw_data[['Datetime','Temperature']]\n",
    "weather_data = weather_data.drop_duplicates()"
   ]
  },
  {
   "cell_type": "code",
   "execution_count": 4,
   "metadata": {
    "scrolled": false
   },
   "outputs": [],
   "source": [
    "from datetime import timedelta\n",
    "\n",
    "start_d = weather_data.Datetime.max()\n",
    "end_d = weather_data.Datetime.min()\n",
    "\n",
    "dates = pd.Series(pd.date_range(start=start_d, end=end_d, freq='-1H'))\n",
    "missing_dates = dates.loc[~dates.isin(weather_data.Datetime)]\n",
    "\n",
    "h = timedelta(hours=1)\n",
    "missing_rows = []\n",
    "\n",
    "for date in missing_dates:\n",
    "    prev_date = date + h\n",
    "    next_date = date - h\n",
    "    while(weather_data.loc[weather_data['Datetime'] == prev_date].empty):\n",
    "        prev_date = prev_date + h\n",
    "    row_dict = {}\n",
    "    row_dict = weather_data.loc[weather_data['Datetime'] == prev_date].to_dict('records')\n",
    "    row_dict[0].update(Datetime=date)\n",
    "    missing_rows.append(row_dict[0])\n",
    "\n",
    "weather_data = weather_data.append(missing_rows)"
   ]
  },
  {
   "cell_type": "code",
   "execution_count": 5,
   "metadata": {},
   "outputs": [
    {
     "data": {
      "text/plain": [
       "(19848, 2)"
      ]
     },
     "execution_count": 5,
     "metadata": {},
     "output_type": "execute_result"
    }
   ],
   "source": [
    "weather_data = weather_data.sort_values('Datetime', ascending=True)\n",
    "weather_data = weather_data.drop_duplicates()\n",
    "weather_data.shape"
   ]
  },
  {
   "cell_type": "code",
   "execution_count": 6,
   "metadata": {},
   "outputs": [],
   "source": [
    "weather_data['Day'] = weather_data.Datetime.dt.day\n",
    "weather_data['Month'] = weather_data.Datetime.dt.month\n",
    "weather_data['Hour'] = weather_data.Datetime.dt.hour\n",
    "weather_data['DayofYear'] = weather_data.Datetime.dt.dayofyear\n",
    "weather_data['WeekofYear'] = weather_data.Datetime.dt.weekofyear\n",
    "weather_data['Year'] = weather_data.Datetime.dt.year"
   ]
  },
  {
   "cell_type": "code",
   "execution_count": 7,
   "metadata": {
    "scrolled": false
   },
   "outputs": [],
   "source": [
    "from sklearn.model_selection import train_test_split\n",
    "\n",
    "\n",
    "weather_data['Prev_Temp'] = weather_data['Temperature'].shift()\n",
    "weather_data['Prev_Temp_Diff'] = weather_data.loc[:,'Prev_Temp'].diff()\n",
    "weather_data = weather_data.dropna()\n",
    "\n",
    "features = ['Hour','DayofYear','Month', 'Day','Year','Prev_Temp','Prev_Temp_Diff']\n",
    "X = pd.get_dummies(weather_data[features])\n",
    "y = weather_data.Temperature\n",
    "\n",
    "train_X,test_X,train_y, test_y = train_test_split(X,y,test_size=.2, random_state=23, shuffle=False)"
   ]
  },
  {
   "cell_type": "code",
   "execution_count": 8,
   "metadata": {},
   "outputs": [],
   "source": [
    "from sklearn.ensemble import RandomForestRegressor\n",
    "from sklearn.metrics import mean_squared_error\n",
    "from sklearn.metrics import mean_absolute_error\n",
    "from math import sqrt\n",
    "\n",
    "\n",
    "# in this case it would be better to consider the RMSE value\n",
    "# so I will chose the model with the lowest RMSE\n",
    "def model_eval(model, train_X, train_y, test_X, test_y):\n",
    "    model.fit(train_X,train_y)\n",
    "    predictions = model.predict(test_X)\n",
    "    \n",
    "    print(\"mean squared error %.5f\" % (mean_squared_error(test_y,predictions)))\n",
    "    print(\"mean absolute error %.5f\" %(mean_absolute_error(test_y,predictions)))\n",
    "    print(\"root mean squared error %.5f\" %(sqrt(mean_squared_error(test_y,predictions))))\n",
    "    return predictions"
   ]
  },
  {
   "cell_type": "code",
   "execution_count": 9,
   "metadata": {},
   "outputs": [
    {
     "name": "stdout",
     "output_type": "stream",
     "text": [
      "mean squared error 8.46012\n",
      "mean absolute error 2.03353\n",
      "root mean squared error 2.90863\n"
     ]
    }
   ],
   "source": [
    "model = RandomForestRegressor(n_estimators=500, n_jobs=-1, random_state=0)\n",
    "p4 = model_eval(model,train_X,train_y,test_X,test_y)"
   ]
  },
  {
   "cell_type": "code",
   "execution_count": 10,
   "metadata": {},
   "outputs": [
    {
     "name": "stdout",
     "output_type": "stream",
     "text": [
      "mean squared error 7.38865\n",
      "mean absolute error 1.89531\n",
      "root mean squared error 2.71821\n"
     ]
    }
   ],
   "source": [
    "from lightgbm import LGBMRegressor\n",
    "\n",
    "model = LGBMRegressor(n_estimatorts=1000,learning_rate=0.1)\n",
    "p3 = model_eval(model,train_X,train_y,test_X,test_y)"
   ]
  },
  {
   "cell_type": "code",
   "execution_count": 11,
   "metadata": {},
   "outputs": [
    {
     "name": "stdout",
     "output_type": "stream",
     "text": [
      "mean squared error 7.51447\n",
      "mean absolute error 1.91563\n",
      "root mean squared error 2.74125\n"
     ]
    }
   ],
   "source": [
    "model = LGBMRegressor(learning_rate=0.07, num_leaves=30)\n",
    "p3 = model_eval(model,train_X,train_y,test_X,test_y)"
   ]
  },
  {
   "cell_type": "code",
   "execution_count": 12,
   "metadata": {},
   "outputs": [
    {
     "name": "stdout",
     "output_type": "stream",
     "text": [
      "mean squared error 11.90373\n",
      "mean absolute error 2.40167\n",
      "root mean squared error 3.45018\n"
     ]
    }
   ],
   "source": [
    "from sklearn.linear_model import SGDRegressor\n",
    "from sklearn.preprocessing import StandardScaler\n",
    "\n",
    "scaler = StandardScaler()\n",
    "scaler.fit(train_X)\n",
    "trainX = scaler.transform(train_X)\n",
    "testX = scaler.transform(test_X)\n",
    "\n",
    "model = SGDRegressor()\n",
    "p4 = model_eval(model,trainX,train_y,testX,test_y)"
   ]
  },
  {
   "cell_type": "code",
   "execution_count": 13,
   "metadata": {},
   "outputs": [
    {
     "name": "stdout",
     "output_type": "stream",
     "text": [
      "mean squared error 11.88383\n",
      "mean absolute error 2.41373\n",
      "root mean squared error 3.44729\n"
     ]
    }
   ],
   "source": [
    "from sklearn.linear_model import Lasso\n",
    "\n",
    "model = Lasso(alpha=0.1, fit_intercept=True, normalize=False, precompute=False, copy_X=True, max_iter=1000, \n",
    "              tol=0.0001, warm_start=False, positive=False, random_state=26, selection='random')\n",
    "p5 = model_eval(model,train_X,train_y,test_X,test_y)"
   ]
  },
  {
   "cell_type": "code",
   "execution_count": 14,
   "metadata": {},
   "outputs": [
    {
     "name": "stdout",
     "output_type": "stream",
     "text": [
      "mean squared error 11.92462\n",
      "mean absolute error 2.42212\n",
      "root mean squared error 3.45320\n"
     ]
    }
   ],
   "source": [
    "from sklearn.linear_model import Ridge\n",
    "\n",
    "model = Ridge()\n",
    "p5 = model_eval(model,train_X,train_y,test_X,test_y)"
   ]
  },
  {
   "cell_type": "code",
   "execution_count": 15,
   "metadata": {},
   "outputs": [
    {
     "name": "stdout",
     "output_type": "stream",
     "text": [
      "mean squared error 11.92010\n",
      "mean absolute error 2.43672\n",
      "root mean squared error 3.45255\n"
     ]
    }
   ],
   "source": [
    "from sklearn.linear_model import ElasticNet\n",
    "\n",
    "model = ElasticNet()\n",
    "p5 = model_eval(model,train_X,train_y,test_X,test_y)"
   ]
  },
  {
   "cell_type": "code",
   "execution_count": 18,
   "metadata": {},
   "outputs": [
    {
     "data": {
      "text/html": [
       "<div>\n",
       "<style scoped>\n",
       "    .dataframe tbody tr th:only-of-type {\n",
       "        vertical-align: middle;\n",
       "    }\n",
       "\n",
       "    .dataframe tbody tr th {\n",
       "        vertical-align: top;\n",
       "    }\n",
       "\n",
       "    .dataframe thead th {\n",
       "        text-align: right;\n",
       "    }\n",
       "</style>\n",
       "<table border=\"1\" class=\"dataframe\">\n",
       "  <thead>\n",
       "    <tr style=\"text-align: right;\">\n",
       "      <th></th>\n",
       "      <th>Predicted_Temp</th>\n",
       "    </tr>\n",
       "  </thead>\n",
       "  <tbody>\n",
       "    <tr>\n",
       "      <td>0</td>\n",
       "      <td>75.827464</td>\n",
       "    </tr>\n",
       "    <tr>\n",
       "      <td>1</td>\n",
       "      <td>71.977378</td>\n",
       "    </tr>\n",
       "    <tr>\n",
       "      <td>2</td>\n",
       "      <td>70.636250</td>\n",
       "    </tr>\n",
       "    <tr>\n",
       "      <td>3</td>\n",
       "      <td>69.424185</td>\n",
       "    </tr>\n",
       "    <tr>\n",
       "      <td>4</td>\n",
       "      <td>67.459637</td>\n",
       "    </tr>\n",
       "    <tr>\n",
       "      <td>5</td>\n",
       "      <td>65.844344</td>\n",
       "    </tr>\n",
       "    <tr>\n",
       "      <td>6</td>\n",
       "      <td>67.295793</td>\n",
       "    </tr>\n",
       "    <tr>\n",
       "      <td>7</td>\n",
       "      <td>70.190242</td>\n",
       "    </tr>\n",
       "    <tr>\n",
       "      <td>8</td>\n",
       "      <td>74.140618</td>\n",
       "    </tr>\n",
       "    <tr>\n",
       "      <td>9</td>\n",
       "      <td>77.904876</td>\n",
       "    </tr>\n",
       "    <tr>\n",
       "      <td>10</td>\n",
       "      <td>82.019208</td>\n",
       "    </tr>\n",
       "    <tr>\n",
       "      <td>11</td>\n",
       "      <td>85.247723</td>\n",
       "    </tr>\n",
       "    <tr>\n",
       "      <td>12</td>\n",
       "      <td>87.587556</td>\n",
       "    </tr>\n",
       "    <tr>\n",
       "      <td>13</td>\n",
       "      <td>88.956445</td>\n",
       "    </tr>\n",
       "    <tr>\n",
       "      <td>14</td>\n",
       "      <td>89.123920</td>\n",
       "    </tr>\n",
       "    <tr>\n",
       "      <td>15</td>\n",
       "      <td>88.792637</td>\n",
       "    </tr>\n",
       "    <tr>\n",
       "      <td>16</td>\n",
       "      <td>88.168809</td>\n",
       "    </tr>\n",
       "    <tr>\n",
       "      <td>17</td>\n",
       "      <td>85.880029</td>\n",
       "    </tr>\n",
       "    <tr>\n",
       "      <td>18</td>\n",
       "      <td>81.917821</td>\n",
       "    </tr>\n",
       "    <tr>\n",
       "      <td>19</td>\n",
       "      <td>77.555776</td>\n",
       "    </tr>\n",
       "    <tr>\n",
       "      <td>20</td>\n",
       "      <td>73.936190</td>\n",
       "    </tr>\n",
       "    <tr>\n",
       "      <td>21</td>\n",
       "      <td>71.310704</td>\n",
       "    </tr>\n",
       "    <tr>\n",
       "      <td>22</td>\n",
       "      <td>69.899491</td>\n",
       "    </tr>\n",
       "    <tr>\n",
       "      <td>23</td>\n",
       "      <td>68.577515</td>\n",
       "    </tr>\n",
       "  </tbody>\n",
       "</table>\n",
       "</div>"
      ],
      "text/plain": [
       "    Predicted_Temp\n",
       "0        75.827464\n",
       "1        71.977378\n",
       "2        70.636250\n",
       "3        69.424185\n",
       "4        67.459637\n",
       "5        65.844344\n",
       "6        67.295793\n",
       "7        70.190242\n",
       "8        74.140618\n",
       "9        77.904876\n",
       "10       82.019208\n",
       "11       85.247723\n",
       "12       87.587556\n",
       "13       88.956445\n",
       "14       89.123920\n",
       "15       88.792637\n",
       "16       88.168809\n",
       "17       85.880029\n",
       "18       81.917821\n",
       "19       77.555776\n",
       "20       73.936190\n",
       "21       71.310704\n",
       "22       69.899491\n",
       "23       68.577515"
      ]
     },
     "execution_count": 18,
     "metadata": {},
     "output_type": "execute_result"
    }
   ],
   "source": [
    "final_model = LGBMRegressor(n_estimatorts=1000,learning_rate=0.1) #model wiht lowest RMSE\n",
    "final_model.fit(X,y)\n",
    "\n",
    "one_hour = timedelta(hours=1)\n",
    "to_predict = pd.DataFrame()\n",
    "temp = weather_data[['Temperature','Datetime']].tail(1)\n",
    "temp['Datetime'] = temp['Datetime'] + one_hour\n",
    "temp.reset_index(inplace=True,drop=True)\n",
    "\n",
    "to_predict['Hour'] = temp['Datetime'].dt.hour\n",
    "to_predict['DayofYear'] = temp['Datetime'].dt.dayofyear\n",
    "to_predict['Month'] = temp['Datetime'].dt.month\n",
    "to_predict['Day'] = temp['Datetime'].dt.day\n",
    "to_predict['Year'] = temp['Datetime'].dt.year\n",
    "\n",
    "to_predict['Prev_Temp'] = temp['Temperature']\n",
    "to_predict['Prev_Temp_Diff'] = weather_data['Temperature'].values[-1] - weather_data['Temperature'].values[-2]\n",
    "\n",
    "tom_temps = final_model.predict(to_predict)\n",
    "\n",
    "for i in range(1,24):\n",
    "    to_predict.loc[i] = to_predict.loc[i-1]\n",
    "    to_predict.loc[i].Hour = i\n",
    "    to_predict.loc[i].Prev_Temp = round(tom_temps.item(i-1))\n",
    "    to_predict.loc[i].Prev_Temp_Diff = to_predict.loc[i].Prev_Temp - to_predict.loc[i-1].Prev_Temp\n",
    "    tom_temps = final_model.predict(to_predict)\n",
    "\n",
    "predicted_temps = pd.DataFrame()\n",
    "predicted_temps['Predicted_Temp'] = tom_temps\n",
    "# index represents hour\n",
    "predicted_temps"
   ]
  },
  {
   "cell_type": "code",
   "execution_count": null,
   "metadata": {},
   "outputs": [],
   "source": []
  }
 ],
 "metadata": {
  "kernelspec": {
   "display_name": "Python 3",
   "language": "python",
   "name": "python3"
  },
  "language_info": {
   "codemirror_mode": {
    "name": "ipython",
    "version": 3
   },
   "file_extension": ".py",
   "mimetype": "text/x-python",
   "name": "python",
   "nbconvert_exporter": "python",
   "pygments_lexer": "ipython3",
   "version": "3.7.4"
  }
 },
 "nbformat": 4,
 "nbformat_minor": 2
}
